{
  "nbformat": 4,
  "nbformat_minor": 0,
  "metadata": {
    "colab": {
      "name": "【AI研究所】 Tensorflowを使ってディープラーニングをする方法を徹底解説.ipynb",
      "version": "0.3.2",
      "provenance": []
    },
    "language_info": {
      "codemirror_mode": {
        "name": "ipython",
        "version": 3
      },
      "file_extension": ".py",
      "mimetype": "text/x-python",
      "name": "python",
      "nbconvert_exporter": "python",
      "pygments_lexer": "ipython3",
      "version": "3.6.1"
    },
    "kernelspec": {
      "display_name": "Python 3",
      "language": "python",
      "name": "python3"
    }
  },
  "cells": [
    {
      "metadata": {
        "id": "1R7jsAY6ZCHk",
        "colab_type": "text"
      },
      "cell_type": "markdown",
      "source": [
        "![代替テキスト](https://ai-kenkyujo.com/img/logo.png)\n",
        "# 【AI研究所】 Tensorflowを使ってディープラーニングをする方法を徹底解説\n"
      ]
    },
    {
      "metadata": {
        "id": "ZqIiRYuAVQL3",
        "colab_type": "text"
      },
      "cell_type": "markdown",
      "source": [
        "## データのインポートとビジュアライズ"
      ]
    },
    {
      "metadata": {
        "id": "RntUAxgi2Mfp",
        "colab_type": "code",
        "colab": {}
      },
      "cell_type": "code",
      "source": [
        "from keras.datasets import mnist\n",
        "import matplotlib.pyplot as plt\n",
        "%matplotlib inline\n",
        "\n",
        "# MNISTデータインポート\n",
        "(train_data, train_label), (test_data, test_label) = mnist.load_data()\n",
        "\n",
        "# データビジュアライズ\n",
        "plt.ﬁgure(1, ﬁgsize=(12, 3.2))\n",
        "plt.subplots_adjust(wspace=0.5)\n",
        "plt.gray()\n",
        "for i in range(3):\n",
        "    plt.subplot(1, 3, i + 1)\n",
        "    img = train_data[i, :, :]\n",
        "    plt.pcolor(255 - img)\n",
        "    plt.text(24.5, 26, \"%d\" % train_label[i],\n",
        "             color='cornflowerblue', fontsize=18)\n",
        "    plt.xlim(0, 27)\n",
        "    plt.ylim(27, 0)\n",
        "plt.show()"
      ],
      "execution_count": 0,
      "outputs": []
    },
    {
      "metadata": {
        "id": "mRhZB4COVu9M",
        "colab_type": "text"
      },
      "cell_type": "markdown",
      "source": [
        "## 学習データとテストデータの整形"
      ]
    },
    {
      "metadata": {
        "id": "1aaA0t6M2Mft",
        "colab_type": "code",
        "colab": {}
      },
      "cell_type": "code",
      "source": [
        "from keras.utils import np_utils\n",
        "\n",
        "# 学習データとテストデータの整形\n",
        "num_classes = 10\n",
        "\n",
        "train_data = train_data.reshape(60000, 784).astype('float32')\n",
        "train_data = train_data / 255\n",
        "train_label = np_utils.to_categorical(train_label, num_classes)\n",
        "\n",
        "test_data = test_data.reshape(10000, 784).astype('float32')\n",
        "test_data = test_data / 255\n",
        "test_label = np_utils.to_categorical(test_label, num_classes)"
      ],
      "execution_count": 0,
      "outputs": []
    },
    {
      "metadata": {
        "id": "Crh5srZJVylr",
        "colab_type": "text"
      },
      "cell_type": "markdown",
      "source": [
        "## ニューラルネットワークの設計"
      ]
    },
    {
      "metadata": {
        "id": "kcT9bHhf2Mfv",
        "colab_type": "code",
        "colab": {}
      },
      "cell_type": "code",
      "source": [
        "from keras.models import Sequential\n",
        "from keras.layers import Dense, Activation\n",
        "from keras.optimizers import Adam\n",
        "\n",
        "model = Sequential()\n",
        "model.add(Dense(100, input_dim=784, activation='relu'))\n",
        "model.add(Dense(100, activation='relu'))\n",
        "model.add(Dense(10, activation='softmax'))\n",
        "model.compile(loss='categorical_crossentropy', \n",
        "              optimizer=Adam(), metrics=['accuracy'])"
      ],
      "execution_count": 0,
      "outputs": []
    },
    {
      "metadata": {
        "id": "iMeoHWU1V1x4",
        "colab_type": "text"
      },
      "cell_type": "markdown",
      "source": [
        "## 学習の実行"
      ]
    },
    {
      "metadata": {
        "id": "Z-XAhZQH2Mfx",
        "colab_type": "code",
        "colab": {}
      },
      "cell_type": "code",
      "source": [
        "import time\n",
        "\n",
        "startTime = time.time()\n",
        "history = model.fit(train_data, train_label, epochs=10, batch_size=1000,\n",
        "                    verbose=1, validation_data=(test_data, test_label))\n",
        "score = model.evaluate(test_data, test_label, verbose=0)\n",
        "print('Test loss:', score[0])\n",
        "print('Test accuracy:', score[1])\n",
        "print(\"Computation time:{0:.3f} sec\".format(time.time() - startTime))"
      ],
      "execution_count": 0,
      "outputs": []
    },
    {
      "metadata": {
        "id": "xW88JVu8V4Y6",
        "colab_type": "text"
      },
      "cell_type": "markdown",
      "source": [
        "## 学習の進み具合をビジュアライズ"
      ]
    },
    {
      "metadata": {
        "id": "7tXe5e7P2Mf0",
        "colab_type": "code",
        "colab": {}
      },
      "cell_type": "code",
      "source": [
        "plt.ﬁgure(1, ﬁgsize=(10, 4))\n",
        "plt.subplots_adjust(wspace=0.5)\n",
        "\n",
        "plt.subplot(1, 2, 1)\n",
        "plt.plot(history.history['loss'], label='training', color='black')\n",
        "plt.plot(history.history['val_loss'], label='test', \n",
        "color='cornflowerblue')\n",
        "plt.ylim(0, 10)\n",
        "plt.legend()\n",
        "plt.grid()\n",
        "plt.xlabel('epoch')\n",
        "plt.ylabel('loss')\n",
        "\n",
        "plt.subplot(1, 2, 2)\n",
        "plt.plot(history.history['acc'], label='training', color='black')\n",
        "plt.plot(history.history['val_acc'],label='test', color='cornflowerblue')\n",
        "plt.ylim(0, 1)\n",
        "plt.legend()\n",
        "plt.grid()\n",
        "plt.xlabel('epoch')\n",
        "plt.ylabel('acc')\n",
        "plt.show()"
      ],
      "execution_count": 0,
      "outputs": []
    },
    {
      "metadata": {
        "id": "YxT1pBRpV61y",
        "colab_type": "text"
      },
      "cell_type": "markdown",
      "source": [
        "## テスト結果のビジュアライズ"
      ]
    },
    {
      "metadata": {
        "id": "4K4Yhhpe2Mf3",
        "colab_type": "code",
        "colab": {}
      },
      "cell_type": "code",
      "source": [
        "import numpy as np\n",
        "\n",
        "n_show = 96\n",
        "y = model.predict(test_data)\n",
        "plt.ﬁgure(2, ﬁgsize=(12, 8))\n",
        "plt.gray()\n",
        "for i in range(n_show):\n",
        "    plt.subplot(8, 12, i + 1)\n",
        "    x = test_data[i, :]\n",
        "    x = x.reshape(28, 28)\n",
        "    plt.pcolor(1 - x)\n",
        "    wk = y[i, :]\n",
        "    prediction = np.argmax(wk)\n",
        "    plt.text(22, 25.5, \"%d\" % prediction, fontsize=12)\n",
        "    if prediction != np.argmax(test_label[i, :]):\n",
        "        plt.plot([0, 27], [1, 1], color='cornflowerblue', linewidth=5)\n",
        "    plt.xlim(0, 27)\n",
        "    plt.ylim(27, 0)\n",
        "    plt.xticks([], \"\")\n",
        "    plt.yticks([], \"\")\n",
        "plt.show()"
      ],
      "execution_count": 0,
      "outputs": []
    }
  ]
}